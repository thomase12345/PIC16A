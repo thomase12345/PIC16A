{
 "cells": [
  {
   "cell_type": "code",
   "execution_count": 92,
   "id": "edd2dc89-9c6d-4d34-a028-5898b5ba08ce",
   "metadata": {},
   "outputs": [],
   "source": [
    "import spotipy\n",
    "from spotipy.oauth2 import SpotifyOAuth\n",
    "import pandas as pd\n",
    "from collections import Counter\n",
    "\n",
    "sp = spotipy.Spotify(auth_manager=SpotifyOAuth(client_id=\"971d355e612f4cb195f9d2314f0134cb\",\n",
    "                                               client_secret=\"d85c6e4d353447b1a5455fe011eaf7dc\",\n",
    "                                               redirect_uri=\"https://example.com/callback\",\n",
    "                                               scope='user-library-read user-top-read playlist-read-private user-read-recently-played'))\n"
   ]
  },
  {
   "cell_type": "code",
   "execution_count": 94,
   "id": "7a9ff89c-98b4-4cfc-b6bd-bcb3e6d0151e",
   "metadata": {},
   "outputs": [
    {
     "data": {
      "text/plain": [
       "'BQA4OHzTI0gkZWIEu0_HFiwacy4UpD1dCUH8JyIME4lU-CU_pMx4RSlC6RrUb6ijYS8D0U5nMo2Bigyilb3tM6zNhi_6K4X9DrP3mGCGKjnguWiJ3Z_kRQLfm-NBJjC7Xk555WonilYMBJ9xuoau6DUkAc_TfTCk7I-VfJ7Yn9oHoPpjr7n30ESs05aNhayhapggInpKUnYsuEyEcl9e-Ewjs90LpxiEinHqK7dXtrMhn452UQ_I_wVnKV7FuGSsM_KsoY9RguFohQ'"
      ]
     },
     "execution_count": 94,
     "metadata": {},
     "output_type": "execute_result"
    }
   ],
   "source": [
    "token = sp.auth_manager.get_access_token(as_dict=False)\n",
    "token"
   ]
  },
  {
   "cell_type": "code",
   "execution_count": 112,
   "id": "cd846a8b-9981-4d3e-b78e-5926d8d6c2d4",
   "metadata": {},
   "outputs": [
    {
     "name": "stdout",
     "output_type": "stream",
     "text": [
      "Your playlists:\n",
      "- SofayGoat (https://open.spotify.com/playlist/3d9Tnhh1xqBjrNrEJzQPy4)\n",
      "- Top 50 All-Time Hits (https://open.spotify.com/playlist/3z1NkCdPdePZFJghVIsh4X)\n",
      "- Wrapped Almost (https://open.spotify.com/playlist/20YdXM5rT1bsH6k4f1q1cZ)\n",
      "- RNB Songs (https://open.spotify.com/playlist/3Uie4roFo10l5K6xccBZNh)\n",
      "- Top 50 All-Time Hits (https://open.spotify.com/playlist/2UyrUaHPGKv6U9ixaWYXV7)\n",
      "- Tender Taylor Moments (https://open.spotify.com/playlist/4HLeuVUoGMRSswCWE02Nnq)\n",
      "- Volleyball Vibes (https://open.spotify.com/playlist/1s7ltpuJH4HH0SNBwMclYJ)\n",
      "- Top Picks for Your Aux (https://open.spotify.com/playlist/7FX22E5EalZmpMd71uigGK)\n",
      "- Musical Surprises (https://open.spotify.com/playlist/37UyPGU6f37LXLz9CW5bH1)\n",
      "- Frat House Bangers (https://open.spotify.com/playlist/2O73W4iiGliWfnrEFRKqTR)\n",
      "- Stats Study Focus (https://open.spotify.com/playlist/6qFbf4HRIssBjQA8PCr47y)\n",
      "- Chill Lofi Favorites (https://open.spotify.com/playlist/79Gd1i4gWzmr4TRRK4bZcu)\n",
      "- Shower Vibes: Rap & Pop (https://open.spotify.com/playlist/2PmrTmq2JCfMrJ9ukGkUay)\n",
      "- Sofaygo Ordered by Most Streams (https://open.spotify.com/playlist/0W4u5LD3DCcaiasHKSeKYb)\n",
      "- All-Time Favorites (https://open.spotify.com/playlist/6dhpq6reRuCKCzwhm33Nnl)\n",
      "- Upbeat Study Vibes (https://open.spotify.com/playlist/6KFoQpMsB3tlSUsO5HNUo4)\n",
      "- 2018 Top Hits (https://open.spotify.com/playlist/6W3ifYEyyhXHv8IC5GukrI)\n",
      "- Upbeat Taylor Vibes (https://open.spotify.com/playlist/1zL6lKrlGE0Y8ZB0hKhtwS)\n",
      "- Genre Gems (https://open.spotify.com/playlist/1zkgC7ogxRK0uYQwvjQJh7)\n",
      "- Old Sofaygo (https://open.spotify.com/playlist/5D5YB2ZwxjnbBk2dbKgLc4)\n",
      "- Rank (https://open.spotify.com/playlist/4SwQPjy0nkpJQAVajUxSX7)\n",
      "- Best T Swift songs (https://open.spotify.com/playlist/201HjWrxoRP40TOBEsbOL7)\n",
      "- The Gang (https://open.spotify.com/playlist/0TgWNVZwcTTG99lVfcaEtk)\n",
      "- Car (https://open.spotify.com/playlist/7nxk9e55dMBkMFUXfdMGQC)\n",
      "- My Supergroup Mix (https://open.spotify.com/playlist/7cyEUI0c0KfPd7n1skr8qJ)\n",
      "- 🔥 Obsessive Orange 🔥 (https://open.spotify.com/playlist/2hbGq2LjjbUd43kHS0N4Z5)\n",
      "- Clean (https://open.spotify.com/playlist/1pA83fmnuRym38ekdlRsbV)\n",
      "- Juice the kidd (https://open.spotify.com/playlist/7AMi9IzQT65Ye3rfYkegAv)\n",
      "- Liked Songs (https://open.spotify.com/playlist/2oFecPb2zQy1330fyktGvD)\n",
      "- 2019 Lil Tjay (https://open.spotify.com/playlist/3TU1ANVh6PGSNCNp66hsEy)\n",
      "- Death Race For Love Condensed  (https://open.spotify.com/playlist/433FUcRt8quJQ8WwaRofmS)\n",
      "- Best of X (https://open.spotify.com/playlist/5FqozS7ZE4BGTqXqryAhHh)\n",
      "- Jams (https://open.spotify.com/playlist/4gPZr9slpJWutpDTgzyWKm)\n",
      "- Hype Songs (https://open.spotify.com/playlist/0cldBkYwED2Nk9PWD9Saig)\n",
      "- Sad Boi Hours (https://open.spotify.com/playlist/3pTiPvTq2Bgvo6H95etaS0)\n"
     ]
    }
   ],
   "source": [
    "playlists = sp.current_user_playlists()\n",
    "\n",
    "#Print playlist names and URLs\n",
    "print(\"Your playlists:\")\n",
    "for playlist in playlists['items']:\n",
    "    print(f\"- {playlist['name']} ({playlist['external_urls']['spotify']})\")"
   ]
  },
  {
   "cell_type": "code",
   "execution_count": 114,
   "id": "5d0ea411-c329-4a90-bfba-64575f92867b",
   "metadata": {},
   "outputs": [
    {
     "name": "stdout",
     "output_type": "stream",
     "text": [
      "WTHELLY by Rob49 (played at 2025-05-22T01:21:38.358Z)\n",
      "LiveLeak by Ken Carson (played at 2025-05-22T01:19:21.209Z)\n",
      "Hell Yeah by SoFaygo (played at 2025-05-22T01:16:09.196Z)\n",
      "What Are You Waiting For by d4vd (played at 2025-05-22T01:13:20.806Z)\n",
      "TRIM (with Future) by Playboi Carti (played at 2025-05-22T01:10:55.944Z)\n",
      "Let's Lose Our Minds by SoFaygo (played at 2025-05-22T01:08:00.428Z)\n",
      "Free Agents by Homixide Gang (played at 2025-05-22T01:01:36.073Z)\n",
      "TIFFANY by Benji Blue Bills (played at 2025-05-22T00:58:14.154Z)\n",
      "not yo gang by Glo (played at 2025-05-22T00:56:04.837Z)\n",
      "promises by Hardrock (played at 2025-05-22T00:54:33.869Z)\n"
     ]
    }
   ],
   "source": [
    "recents = sp.current_user_recently_played(limit=10)\n",
    "\n",
    "#Prints recent songs from user's Spotify\n",
    "for item in recents['items']:\n",
    "    track = item['track']\n",
    "    played_at = item['played_at']\n",
    "    print(f\"{track['name']} by {track['artists'][0]['name']} (played at {played_at})\")\n"
   ]
  },
  {
   "cell_type": "code",
   "execution_count": 116,
   "id": "4e1def66-420a-48bb-b7dd-70013edcf3b9",
   "metadata": {},
   "outputs": [
    {
     "name": "stdout",
     "output_type": "stream",
     "text": [
      "['02CUgLutqmue2cayDgmn53', '6GcUFZ5PEAo5gc4IvfsGTv', '1LsisG6aoqfsF1r6M4LpMO', '468SJikdm8k5a9SeahqkC8', '4bYOJrnVH6wS39xKaY6UEn']\n",
      "5\n"
     ]
    }
   ],
   "source": [
    "top_tracks = sp.current_user_top_tracks(limit=5, time_range='short_term')\n",
    "seed_ids = [track['id'] for track in top_tracks['items']]\n",
    "\n",
    "print(seed_ids)\n",
    "print(len(seed_ids))\n"
   ]
  },
  {
   "cell_type": "code",
   "execution_count": 122,
   "id": "785be61c-bffa-43c8-b35b-8fbfa24e0b29",
   "metadata": {},
   "outputs": [
    {
     "name": "stdout",
     "output_type": "stream",
     "text": [
      "Recommended Tracks:\n",
      "                                                 name      artist  popularity\n",
      "0   Off The Meter (with Playboi Carti & Destroy Lo...  Ken Carson          77\n",
      "1                                            overseas  Ken Carson          76\n",
      "2                                                  ss  Ken Carson          82\n",
      "3                                  Fighting My Demons  Ken Carson          78\n",
      "4                                                Yale  Ken Carson          80\n",
      "5                                 Don't Hold The Fire     SoFaygo          63\n",
      "6                                            Everyday     SoFaygo          59\n",
      "7                                         Off The Map     SoFaygo          60\n",
      "8                                           Hell Yeah     SoFaygo          60\n",
      "9                                         Knock Knock     SoFaygo          69\n",
      "10                                               Sing   556Kurumi          39\n",
      "11                                           Pressure   556Kurumi          29\n",
      "12                                               Giza   556Kurumi          27\n"
     ]
    }
   ],
   "source": [
    "#This code block generates song recommendations purely off user's most replayed tracks\n",
    "#Low level example, generates mainstream recommendations\n",
    "\n",
    "#Step 1: Fetch your top tracks\n",
    "top_tracks = sp.current_user_top_tracks(limit=20, time_range='short_term')\n",
    "track_data = [{\n",
    "    'name': track['name'],\n",
    "    'artist': track['artists'][0]['name'],\n",
    "    'id': track['id'],\n",
    "    'popularity': track['popularity']\n",
    "} for track in top_tracks['items']]\n",
    "\n",
    "df_top_tracks = pd.DataFrame(track_data)\n",
    "\n",
    "#Step 2: Analyze most frequent artists\n",
    "top_artists = df_top_tracks['artist'].value_counts().head(3).index.tolist()\n",
    "\n",
    "#Step 3: Search for similar tracks by top artists\n",
    "recommendations = []\n",
    "for artist in top_artists:\n",
    "    results = sp.search(q=f'artist:{artist}', type='track', limit=5)\n",
    "    for item in results['tracks']['items']:\n",
    "        recommendations.append({\n",
    "            'name': item['name'],\n",
    "            'artist': item['artists'][0]['name'],\n",
    "            'id': item['id'],\n",
    "            'popularity': item['popularity']\n",
    "        })\n",
    "\n",
    "df_recommendations = pd.DataFrame(recommendations)\n",
    "\n",
    "#Step 4: Display recommendations\n",
    "print(\"Recommended Tracks:\")\n",
    "print(df_recommendations[['name', 'artist', 'popularity']])\n"
   ]
  },
  {
   "cell_type": "code",
   "execution_count": 126,
   "id": "962c7f45-0cef-4b43-91e3-c22da5a98677",
   "metadata": {},
   "outputs": [
    {
     "name": "stdout",
     "output_type": "stream",
     "text": [
      "SoFaygo: ['rage rap']\n",
      "nabh: []\n",
      "Ken Carson: ['rage rap']\n",
      "d4vd: []\n",
      "Hardrock: ['rage rap', 'underground hip hop']\n",
      "Ken Carson: ['rage rap']\n",
      "Benji Blue Bills: []\n",
      "Duwap Kaine: ['cloud rap', 'underground hip hop']\n",
      "k3: []\n",
      "Ken Carson: ['rage rap']\n",
      "lil batou: []\n",
      "Ken Carson: ['rage rap']\n",
      "Ariana Grande: ['pop']\n",
      "556Kurumi: []\n",
      "Ken Carson: ['rage rap']\n",
      "Ken Carson: ['rage rap']\n",
      "Young Thug: ['rap', 'melodic rap', 'trap']\n",
      "556Kurumi: []\n",
      "Homixide Gang: ['rage rap']\n",
      "SoFaygo: ['rage rap']\n"
     ]
    }
   ],
   "source": [
    "artist_ids = [track['artists'][0]['id'] for track in top_tracks['items']]\n",
    "artist_meta = sp.artists(artist_ids)\n",
    "\n",
    "#Prints user's top artists and their genres based on most listened to songs recently\n",
    "for artist in artist_meta['artists']:\n",
    "    print(f\"{artist['name']}: {artist['genres']}\")"
   ]
  },
  {
   "cell_type": "code",
   "execution_count": 128,
   "id": "8132ff1a-a774-48eb-8299-6d78eedbee92",
   "metadata": {},
   "outputs": [
    {
     "name": "stdout",
     "output_type": "stream",
     "text": [
      "Top genres: [('rage rap', 10), ('underground hip hop', 2), ('cloud rap', 1), ('pop', 1), ('rap', 1)]\n"
     ]
    }
   ],
   "source": [
    "genre_counter = Counter()\n",
    "for artist in artist_meta['artists']:\n",
    "    genre_counter.update(artist['genres'])\n",
    "\n",
    "#Top genres in user's profile\n",
    "top_genres = genre_counter.most_common(5)\n",
    "print(\"Top genres:\", top_genres)\n"
   ]
  },
  {
   "cell_type": "code",
   "execution_count": 135,
   "id": "8adf56f7-221c-4cb7-ac04-6a2a9019f001",
   "metadata": {},
   "outputs": [
    {
     "name": "stdout",
     "output_type": "stream",
     "text": [
      "  - No Pole by Don Toliver\n",
      "  - All The Stars (with SZA) by Kendrick Lamar\n",
      "  - Snooze by SZA\n",
      "  - See You Again (feat. Kali Uchis) by Tyler, The Creator\n",
      "  - HUMBLE. by Kendrick Lamar\n",
      "  - Like That by Future\n",
      "  - Not Like Us by Kendrick Lamar\n",
      "  - Money Trees by Kendrick Lamar\n",
      "  - The Spins by Mac Miller\n",
      "  - I Had Some Help (Feat. Morgan Wallen) by Post Malone\n"
     ]
    }
   ],
   "source": [
    "#Searches for songs based on top_genres and appends them to results\n",
    "for genre, _ in top_genres:\n",
    "    results = sp.search(q=f'genre:\"{genre}\"', type='track', limit=10) #can adjust this limit to change amt of generated songs\n",
    "\n",
    "#Prints list of recommended songs\n",
    "for item in results['tracks']['items']:\n",
    "        track = item['name']\n",
    "        artist = item['artists'][0]['name']\n",
    "        print(f\"  - {track} by {artist}\")"
   ]
  },
  {
   "cell_type": "code",
   "execution_count": null,
   "id": "0d47c455-a547-464e-91e8-52313a788976",
   "metadata": {},
   "outputs": [],
   "source": []
  },
  {
   "cell_type": "code",
   "execution_count": null,
   "id": "569931c1-7af1-44e0-8a43-6209287cbaff",
   "metadata": {},
   "outputs": [],
   "source": []
  }
 ],
 "metadata": {
  "kernelspec": {
   "display_name": "Python [conda env:base] *",
   "language": "python",
   "name": "conda-base-py"
  },
  "language_info": {
   "codemirror_mode": {
    "name": "ipython",
    "version": 3
   },
   "file_extension": ".py",
   "mimetype": "text/x-python",
   "name": "python",
   "nbconvert_exporter": "python",
   "pygments_lexer": "ipython3",
   "version": "3.12.7"
  }
 },
 "nbformat": 4,
 "nbformat_minor": 5
}
