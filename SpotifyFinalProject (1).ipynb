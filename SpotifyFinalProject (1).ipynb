{
 "cells": [
  {
   "cell_type": "markdown",
   "id": "df2f5329-fb4b-4c05-a459-c86002981ddf",
   "metadata": {},
   "source": [
    "# Spotify Recommendation System"
   ]
  },
  {
   "cell_type": "code",
   "execution_count": null,
   "id": "edd2dc89-9c6d-4d34-a028-5898b5ba08ce",
   "metadata": {},
   "outputs": [],
   "source": [
    "import spotipy\n",
    "from spotipy.oauth2 import SpotifyOAuth\n",
    "import pandas as pd\n",
    "from collections import Counter\n",
    "\n",
    "sp = spotipy.Spotify(auth_manager=SpotifyOAuth(client_id=\"971d355e612f4cb195f9d2314f0134cb\",\n",
    "                                               client_secret=\"d85c6e4d353447b1a5455fe011eaf7dc\",\n",
    "                                               redirect_uri=\"https://example.com/callback\",\n",
    "                                               scope='user-library-read user-top-read playlist-read-private user-read-recently-played user-modify-playback-state'))\n",
    "\n",
    "#Initialization and Setup"
   ]
  },
  {
   "cell_type": "code",
   "execution_count": null,
   "id": "7a9ff89c-98b4-4cfc-b6bd-bcb3e6d0151e",
   "metadata": {},
   "outputs": [],
   "source": [
    "token = sp.auth_manager.get_access_token(as_dict=False)\n",
    "token"
   ]
  },
  {
   "cell_type": "code",
   "execution_count": null,
   "id": "cd846a8b-9981-4d3e-b78e-5926d8d6c2d4",
   "metadata": {},
   "outputs": [],
   "source": [
    "playlists = sp.current_user_playlists()\n",
    "\n",
    "#Print playlist names and URLs\n",
    "print(\"Your playlists:\")\n",
    "for playlist in playlists['items']:\n",
    "    print(f\"- {playlist['name']} ({playlist['external_urls']['spotify']})\")"
   ]
  },
  {
   "cell_type": "code",
   "execution_count": null,
   "id": "5d0ea411-c329-4a90-bfba-64575f92867b",
   "metadata": {},
   "outputs": [],
   "source": [
    "recents = sp.current_user_recently_played(limit=10)\n",
    "\n",
    "#Prints recent songs from user's Spotify\n",
    "for item in recents['items']:\n",
    "    track = item['track']\n",
    "    played_at = item['played_at']\n",
    "    print(f\"{track['name']} by {track['artists'][0]['name']} (played at {played_at})\")\n"
   ]
  },
  {
   "cell_type": "code",
   "execution_count": null,
   "id": "4e1def66-420a-48bb-b7dd-70013edcf3b9",
   "metadata": {},
   "outputs": [],
   "source": [
    "top_tracks = sp.current_user_top_tracks(limit=5, time_range='short_term')\n",
    "seed_ids = [track['id'] for track in top_tracks['items']]\n",
    "\n",
    "print(seed_ids)\n",
    "print(len(seed_ids))"
   ]
  },
  {
   "cell_type": "code",
   "execution_count": null,
   "id": "785be61c-bffa-43c8-b35b-8fbfa24e0b29",
   "metadata": {},
   "outputs": [],
   "source": [
    "# Step 1: Fetch your top tracks and their genres\n",
    "top_tracks = sp.current_user_top_tracks(limit=20, time_range='short_term')\n",
    "track_data = []\n",
    "\n",
    "for track in top_tracks['items']:\n",
    "    artist_id = track['artists'][0]['id']\n",
    "    artist_info = sp.artist(artist_id)\n",
    "    genres = artist_info.get('genres', [])\n",
    "    \n",
    "    track_data.append({\n",
    "        'name': track['name'],\n",
    "        'artist': track['artists'][0]['name'],\n",
    "        'id': track['id'],\n",
    "        'popularity': track['popularity'],\n",
    "        'genres': \", \".join(genres)  # comma-separated string\n",
    "    })\n",
    "\n",
    "df_top_tracks = pd.DataFrame(track_data)\n",
    "\n",
    "# Step 2: Analyze most frequent artists\n",
    "top_artists = df_top_tracks['artist'].value_counts().head(3).index.tolist()\n",
    "\n",
    "# Step 3: Search for similar tracks by top artists, include genres\n",
    "recommendations = []\n",
    "\n",
    "for artist in top_artists:\n",
    "    results = sp.search(q=f'artist:{artist}', type='track', limit=5)\n",
    "    for item in results['tracks']['items']:\n",
    "        artist_id = item['artists'][0]['id']\n",
    "        artist_info = sp.artist(artist_id)\n",
    "        genres = artist_info.get('genres', [])\n",
    "\n",
    "        recommendations.append({\n",
    "            'name': item['name'],\n",
    "            'artist': item['artists'][0]['name'],\n",
    "            'id': item['id'],\n",
    "            'popularity': item['popularity'],\n",
    "            'genres': \", \".join(genres)\n",
    "        })\n",
    "\n",
    "df_recommendations = pd.DataFrame(recommendations)\n",
    "\n",
    "# Step 4: Display recommendations with genres\n",
    "df_recommendations\n"
   ]
  },
  {
   "cell_type": "code",
   "execution_count": null,
   "id": "962c7f45-0cef-4b43-91e3-c22da5a98677",
   "metadata": {},
   "outputs": [],
   "source": [
    "artist_ids = [track['artists'][0]['id'] for track in top_tracks['items']]\n",
    "artist_meta = sp.artists(artist_ids)\n",
    "\n",
    "#Prints user's top artists and their genres based on most listened to songs recently\n",
    "for artist in artist_meta['artists']:\n",
    "    print(f\"{artist['name']}) : {artist['genres']}\")"
   ]
  },
  {
   "cell_type": "code",
   "execution_count": null,
   "id": "8132ff1a-a774-48eb-8299-6d78eedbee92",
   "metadata": {},
   "outputs": [],
   "source": [
    "genre_counter = Counter()\n",
    "for artist in artist_meta['artists']:\n",
    "    genre_counter.update(artist['genres'])\n",
    "\n",
    "#Top genres in user's profile\n",
    "top_genres = genre_counter.most_common(10)\n",
    "print(\"Top genres:\", top_genres)\n"
   ]
  },
  {
   "cell_type": "code",
   "execution_count": null,
   "id": "8adf56f7-221c-4cb7-ac04-6a2a9019f001",
   "metadata": {},
   "outputs": [],
   "source": [
    "#Searches for songs based on user's top_genres and appends them to results\n",
    "for genre, _ in top_genres:\n",
    "    results = sp.search(q=f'genre:\"{genre}\"', type='track', limit=10) #can adjust this limit to change amt of generated songs\n",
    "\n",
    "#Prints list of recommended songs\n",
    "for item in results['tracks']['items']:\n",
    "        track = item['name']\n",
    "        artist = item['artists'][0]['name']\n",
    "        print(f\"  - {track} by {artist}\")"
   ]
  },
  {
   "cell_type": "code",
   "execution_count": null,
   "id": "0d47c455-a547-464e-91e8-52313a788976",
   "metadata": {},
   "outputs": [],
   "source": [
    "#Add recommended songs to queue\n",
    "for item in results['tracks']['items']:\n",
    "    track = item['name']\n",
    "    artist = item['artists'][0]['name']\n",
    "    uri = item['uri']  \n",
    "    \n",
    "    print(f\"  - Queuing: {track} by {artist}\")\n",
    "    try:\n",
    "        sp.add_to_queue(uri)\n",
    "    except Exception as e:\n",
    "        print(f\"    ❌ Failed to add: {e}\")\n"
   ]
  },
  {
   "cell_type": "code",
   "execution_count": null,
   "id": "88cf2378-0edd-4619-9440-c5a8a8acac84",
   "metadata": {},
   "outputs": [],
   "source": [
    "# Then, do a genre-based artist search\n",
    "genre_query = 'genre:\"hyperpop\"'\n",
    "results = sp.search(q=genre_query, type='artist', limit=50)\n",
    "\n",
    "# Now safely filter out the seed artist\n",
    "related_artists = [\n",
    "    {\n",
    "        'name': a['name'],\n",
    "        'id': a['id'],\n",
    "        'genres': a['genres'],\n",
    "        'popularity': a['popularity']\n",
    "    }\n",
    "    for a in results['artists']['items']\n",
    "]\n"
   ]
  },
  {
   "cell_type": "code",
   "execution_count": null,
   "id": "f285ff9a-59db-40c9-87b7-165ed77b7a8b",
   "metadata": {},
   "outputs": [],
   "source": [
    "df_related = pd.DataFrame(related_artists)\n",
    "df_related\n"
   ]
  },
  {
   "cell_type": "code",
   "execution_count": null,
   "id": "37e1a62f-d9df-4146-a60b-769e24c4a481",
   "metadata": {},
   "outputs": [],
   "source": []
  }
 ],
 "metadata": {
  "kernelspec": {
   "display_name": "Python [conda env:base] *",
   "language": "python",
   "name": "conda-base-py"
  },
  "language_info": {
   "codemirror_mode": {
    "name": "ipython",
    "version": 3
   },
   "file_extension": ".py",
   "mimetype": "text/x-python",
   "name": "python",
   "nbconvert_exporter": "python",
   "pygments_lexer": "ipython3",
   "version": "3.12.7"
  }
 },
 "nbformat": 4,
 "nbformat_minor": 5
}
