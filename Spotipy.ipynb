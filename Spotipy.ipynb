{
 "cells": [
  {
   "cell_type": "code",
   "execution_count": 2,
   "id": "bad44d87-59f0-43a5-b838-7844ef5016b8",
   "metadata": {},
   "outputs": [],
   "source": [
    "import spotipy\n",
    "from spotipy.oauth2 import SpotifyOAuth\n",
    "scope='user-top-read'\n",
    "\n",
    "sp = spotipy.Spotify(auth_manager=SpotifyOAuth(client_id=\"971d355e612f4cb195f9d2314f0134cb\",\n",
    "                                               client_secret=\"d85c6e4d353447b1a5455fe011eaf7dc\",\n",
    "                                               redirect_uri=\"https://google.com\",\n",
    "                                               scope='user-library-read user-top-read'))\n"
   ]
  },
  {
   "cell_type": "code",
   "execution_count": 4,
   "id": "c0c66792-f078-4b76-8b1c-0bca7255485d",
   "metadata": {},
   "outputs": [
    {
     "data": {
      "text/plain": [
       "'BQDJ3gYSo5zdYlw-Xjud0PIfb0qB95O6W6320_FT6pTmb3Ye9laG_JmQhvSCkpqOQvkpzxVa9ptKRfdyDh3ZxOjOo3gMcHB-YViOpOQLOhAHaXUSRM9bqJpTlgNy7FnEfy2RahJZG_F27qS0XrFQgJq91I_1vJU84AF1ds6gg7thx1VmiAXJhfhi8wT3znGQy4zJE1awmlro8Cc3oBRpXkzAHq66zHrijPHbFf_vYINfc_BZOh9EEB2LIvLfkTV1'"
      ]
     },
     "execution_count": 4,
     "metadata": {},
     "output_type": "execute_result"
    }
   ],
   "source": [
    "token = sp.auth_manager.get_access_token(as_dict=False)\n",
    "token"
   ]
  },
  {
   "cell_type": "code",
   "execution_count": 6,
   "id": "c0f006ef-c185-4fd1-b4e4-ba07654a5cb4",
   "metadata": {},
   "outputs": [],
   "source": [
    "taylor_uri = '06HL4z0CvFAxyc27GXpf02'\n",
    "faygo_uri = '2SJhf6rTOU53g8yBdAjPby'\n",
    "kencarson_uri = '3gBZUcNeVumkeeJ19CY2sX'"
   ]
  },
  {
   "cell_type": "code",
   "execution_count": 8,
   "id": "f333e652-3d17-4737-a38b-78c31749027b",
   "metadata": {},
   "outputs": [
    {
     "name": "stdout",
     "output_type": "stream",
     "text": [
      "More Chaos\n",
      "A Great Chaos (Deluxe)\n",
      "A Great Chaos\n",
      "XTENDED\n",
      "X\n",
      "Project X\n"
     ]
    }
   ],
   "source": [
    "results = sp.artist_albums(kencarson_uri, album_type='album')\n",
    "albums = results['items']\n",
    "while results['next']:\n",
    "    results = sp.next(results)\n",
    "    albums.extend(results['items'])\n",
    "\n",
    "for album in albums:\n",
    "    print(album['name'])"
   ]
  },
  {
   "cell_type": "code",
   "execution_count": 10,
   "id": "92eddd6c-c590-49ea-ab50-74bc4dde06c7",
   "metadata": {},
   "outputs": [
    {
     "name": "stdout",
     "output_type": "stream",
     "text": [
      "Top tracks for Eltzeey:\n",
      "- Lost Angeles Interlude (https://open.spotify.com/track/6joAcY1cUfWyB8az5C0PCw)\n",
      "- Pink Whitney. (https://open.spotify.com/track/0h2gz1ER1uLnYVDlCJGRn9)\n",
      "- interlude about u. (https://open.spotify.com/track/0wIuFJjoMoe2XoJkiAEdIj)\n",
      "- Intro (https://open.spotify.com/track/4pxsRjaXqmEAFk43wmmUhI)\n",
      "- Moonlight (https://open.spotify.com/track/2icpp3v2R1tQPw5YhpVQ9u)\n",
      "- Sober (https://open.spotify.com/track/2c5HxLAfKpJeG1jpgiCYFp)\n",
      "- Ffriends (https://open.spotify.com/track/2cvGiN6TWPVpDkthuNO03Z)\n",
      "- Eleven (https://open.spotify.com/track/7rwvxJPua2CPGb0EwBywrI)\n",
      "- Lunchtime Freestyle Battle (https://open.spotify.com/track/40AkNaSptNi2tVIRoMh0Sa)\n",
      "- You Were Right (https://open.spotify.com/track/2fFBA0vGcLM0GLKyrxUv9v)\n"
     ]
    }
   ],
   "source": [
    "artist_name = 'Eltzeey'\n",
    "result = sp.search(q='artist:' + artist_name, type='artist')\n",
    "artist = result['artists']['items'][0]\n",
    "artist_id = artist['id']\n",
    "\n",
    "# Get top tracks (default market='US'; change as needed)\n",
    "top_tracks = sp.artist_top_tracks(artist_id, country='US')\n",
    "\n",
    "# Print the track names\n",
    "print(f\"Top tracks for {artist_name}:\")\n",
    "for track in top_tracks['tracks']:\n",
    "    print(f\"- {track['name']} ({track['external_urls']['spotify']})\")\n"
   ]
  },
  {
   "cell_type": "code",
   "execution_count": 12,
   "id": "88f96d66-8038-4531-b62c-ba61774f2fc9",
   "metadata": {},
   "outputs": [
    {
     "name": "stdout",
     "output_type": "stream",
     "text": [
      "Your playlists:\n",
      "- Wrapped Almost (https://open.spotify.com/playlist/20YdXM5rT1bsH6k4f1q1cZ)\n",
      "- RNB Songs (https://open.spotify.com/playlist/3Uie4roFo10l5K6xccBZNh)\n",
      "- Best T Swift songs (https://open.spotify.com/playlist/201HjWrxoRP40TOBEsbOL7)\n",
      "- Liked Songs (https://open.spotify.com/playlist/2oFecPb2zQy1330fyktGvD)\n",
      "- Best of X (https://open.spotify.com/playlist/5FqozS7ZE4BGTqXqryAhHh)\n",
      "- Jams (https://open.spotify.com/playlist/4gPZr9slpJWutpDTgzyWKm)\n",
      "- Hype Songs (https://open.spotify.com/playlist/0cldBkYwED2Nk9PWD9Saig)\n",
      "- Sad Boi Hours (https://open.spotify.com/playlist/3pTiPvTq2Bgvo6H95etaS0)\n"
     ]
    }
   ],
   "source": [
    "playlists = sp.current_user_playlists()\n",
    "\n",
    "# Print playlist names and URLs\n",
    "print(\"Your playlists:\")\n",
    "for playlist in playlists['items']:\n",
    "    print(f\"- {playlist['name']} ({playlist['external_urls']['spotify']})\")"
   ]
  },
  {
   "cell_type": "code",
   "execution_count": 14,
   "id": "b90097fc-9af5-4c06-850a-16b462866e99",
   "metadata": {},
   "outputs": [
    {
     "name": "stdout",
     "output_type": "stream",
     "text": [
      "thomase123\n"
     ]
    }
   ],
   "source": [
    "print(sp.me()['display_name'])"
   ]
  },
  {
   "cell_type": "code",
   "execution_count": 16,
   "id": "590c053b-9159-4324-b7ef-3b6e7f5c173b",
   "metadata": {},
   "outputs": [
    {
     "name": "stdout",
     "output_type": "stream",
     "text": [
      "['02CUgLutqmue2cayDgmn53', '6GcUFZ5PEAo5gc4IvfsGTv', '1LsisG6aoqfsF1r6M4LpMO', '468SJikdm8k5a9SeahqkC8', '4bYOJrnVH6wS39xKaY6UEn']\n",
      "5\n"
     ]
    }
   ],
   "source": [
    "top_tracks = sp.current_user_top_tracks(limit=5, time_range='short_term')\n",
    "seed_ids = [track['id'] for track in top_tracks['items']]\n",
    "\n",
    "print(seed_ids)\n",
    "print(len(seed_ids))\n",
    "\n",
    "# # Step 2: Get recommendations\n",
    "# recs = sp.recommendations(seed_tracks=seed_ids, limit=10, target_energy=0.75, target_danceability=0.8)\n",
    "\n",
    "# # Step 3: Display\n",
    "# print(\"Recommended tracks:\")\n",
    "# for track in recs['tracks']:\n",
    "#     print(f\"- {track['name']} by {track['artists'][0]['name']}\")\n"
   ]
  },
  {
   "cell_type": "code",
   "execution_count": 18,
   "id": "451e5660-fded-40e4-9006-c3207b1b1d85",
   "metadata": {},
   "outputs": [
    {
     "name": "stdout",
     "output_type": "stream",
     "text": [
      "02CUgLutqmue2cayDgmn53: Don't Hold The Fire by SoFaygo\n",
      "6GcUFZ5PEAo5gc4IvfsGTv: Breathe by nabh\n",
      "1LsisG6aoqfsF1r6M4LpMO: Blakk Rokkstar by Ken Carson\n",
      "468SJikdm8k5a9SeahqkC8: Sky by d4vd\n",
      "4bYOJrnVH6wS39xKaY6UEn: promises by Hardrock\n"
     ]
    }
   ],
   "source": [
    "for tid in seed_ids:\n",
    "    try:\n",
    "        track_info = sp.track(tid)\n",
    "        print(f\"{tid}: {track_info['name']} by {track_info['artists'][0]['name']}\")\n",
    "    except:\n",
    "        print(f\"{tid}: Not Found\")\n"
   ]
  },
  {
   "cell_type": "code",
   "execution_count": 20,
   "id": "e2c5cfb2-cdc9-4c35-9d1a-8ceb7b6ad1d5",
   "metadata": {},
   "outputs": [],
   "source": [
    "import pandas as pd"
   ]
  },
  {
   "cell_type": "code",
   "execution_count": 22,
   "id": "05af8d35-97bc-4a8a-b8a6-11625b0ed71d",
   "metadata": {},
   "outputs": [
    {
     "data": {
      "text/plain": [
       "1162095"
      ]
     },
     "execution_count": 22,
     "metadata": {},
     "output_type": "execute_result"
    }
   ],
   "source": [
    "df = pd.read_csv('artists.csv')\n",
    "df.head()\n",
    "len(df)"
   ]
  },
  {
   "cell_type": "code",
   "execution_count": 23,
   "id": "e97775cd-6637-414d-8b39-89382badd306",
   "metadata": {},
   "outputs": [],
   "source": [
    "import ast\n",
    "df['genres'] = df['genres'].apply(ast.literal_eval)\n",
    "\n",
    "df = df[df['genres'].map(lambda g: len(g) > 0)]"
   ]
  },
  {
   "cell_type": "code",
   "execution_count": 24,
   "id": "04255a66-ec31-41a3-b0ae-3f840625a3a9",
   "metadata": {},
   "outputs": [
    {
     "data": {
      "text/plain": [
       "305595"
      ]
     },
     "execution_count": 24,
     "metadata": {},
     "output_type": "execute_result"
    }
   ],
   "source": [
    "len(df)"
   ]
  },
  {
   "cell_type": "code",
   "execution_count": 26,
   "id": "17cb54e9-74db-4ed9-bffd-6a2c31223bb5",
   "metadata": {},
   "outputs": [],
   "source": [
    "from sklearn.preprocessing import MultiLabelBinarizer\n",
    "\n",
    "# Convert genre strings to actual lists\n",
    "#df['genres'] = df['genres'].apply(eval)  # Use only if genres are stored as stringified lists\n",
    "\n",
    "mlb = MultiLabelBinarizer()\n",
    "genre_matrix = mlb.fit_transform(df['genres'])\n",
    "\n",
    "genre_df = pd.DataFrame(genre_matrix, columns=mlb.classes_, index=df.index)\n"
   ]
  },
  {
   "cell_type": "code",
   "execution_count": 30,
   "id": "00bde6f9-1ad8-4a41-8c02-99f000d2a690",
   "metadata": {},
   "outputs": [],
   "source": [
    "# Normalize followers for fair scaling\n",
    "df['followers'] = (df['followers'] - df['followers'].min()) / (df['followers'].max() - df['followers'].min())\n",
    "\n",
    "# Combine all features\n",
    "feature_df = pd.concat([df[['followers', 'popularity']], genre_df], axis=1)\n"
   ]
  },
  {
   "cell_type": "code",
   "execution_count": 32,
   "id": "2461010e-02ef-4fdf-916d-8bca0405ed1a",
   "metadata": {},
   "outputs": [
    {
     "name": "stdout",
     "output_type": "stream",
     "text": [
      "followers                 5\n",
      "popularity                0\n",
      "21st century classical    0\n",
      "432hz                     0\n",
      "48g                       0\n",
      "                         ..\n",
      "zouglou                   0\n",
      "zouk                      0\n",
      "zouk riddim               0\n",
      "zurich indie              0\n",
      "zydeco                    0\n",
      "Length: 5368, dtype: int64\n"
     ]
    }
   ],
   "source": [
    "print(feature_df.isnull().sum())\n",
    "feature_df_clean = feature_df.dropna()\n",
    "feature_df_filled = feature_df.fillna(0)\n"
   ]
  },
  {
   "cell_type": "code",
   "execution_count": 33,
   "id": "24403dcf-5f96-4d73-9c42-83eccb835941",
   "metadata": {},
   "outputs": [
    {
     "ename": "ValueError",
     "evalue": "Input contains NaN.",
     "output_type": "error",
     "traceback": [
      "\u001b[0;31m---------------------------------------------------------------------------\u001b[0m",
      "\u001b[0;31mValueError\u001b[0m                                Traceback (most recent call last)",
      "Cell \u001b[0;32mIn[33], line 3\u001b[0m\n\u001b[1;32m      1\u001b[0m \u001b[38;5;28;01mfrom\u001b[39;00m \u001b[38;5;21;01msklearn\u001b[39;00m\u001b[38;5;21;01m.\u001b[39;00m\u001b[38;5;21;01mmetrics\u001b[39;00m\u001b[38;5;21;01m.\u001b[39;00m\u001b[38;5;21;01mpairwise\u001b[39;00m \u001b[38;5;28;01mimport\u001b[39;00m cosine_similarity\n\u001b[0;32m----> 3\u001b[0m similarity_matrix \u001b[38;5;241m=\u001b[39m cosine_similarity(feature_df\u001b[38;5;241m.\u001b[39mvalues)\n\u001b[1;32m      4\u001b[0m sim_df \u001b[38;5;241m=\u001b[39m pd\u001b[38;5;241m.\u001b[39mDataFrame(similarity_matrix, index\u001b[38;5;241m=\u001b[39mdf[\u001b[38;5;124m'\u001b[39m\u001b[38;5;124mname\u001b[39m\u001b[38;5;124m'\u001b[39m], columns\u001b[38;5;241m=\u001b[39mdf[\u001b[38;5;124m'\u001b[39m\u001b[38;5;124mname\u001b[39m\u001b[38;5;124m'\u001b[39m])\n",
      "File \u001b[0;32m/opt/anaconda3/lib/python3.12/site-packages/sklearn/utils/_param_validation.py:213\u001b[0m, in \u001b[0;36mvalidate_params.<locals>.decorator.<locals>.wrapper\u001b[0;34m(*args, **kwargs)\u001b[0m\n\u001b[1;32m    207\u001b[0m \u001b[38;5;28;01mtry\u001b[39;00m:\n\u001b[1;32m    208\u001b[0m     \u001b[38;5;28;01mwith\u001b[39;00m config_context(\n\u001b[1;32m    209\u001b[0m         skip_parameter_validation\u001b[38;5;241m=\u001b[39m(\n\u001b[1;32m    210\u001b[0m             prefer_skip_nested_validation \u001b[38;5;129;01mor\u001b[39;00m global_skip_validation\n\u001b[1;32m    211\u001b[0m         )\n\u001b[1;32m    212\u001b[0m     ):\n\u001b[0;32m--> 213\u001b[0m         \u001b[38;5;28;01mreturn\u001b[39;00m func(\u001b[38;5;241m*\u001b[39margs, \u001b[38;5;241m*\u001b[39m\u001b[38;5;241m*\u001b[39mkwargs)\n\u001b[1;32m    214\u001b[0m \u001b[38;5;28;01mexcept\u001b[39;00m InvalidParameterError \u001b[38;5;28;01mas\u001b[39;00m e:\n\u001b[1;32m    215\u001b[0m     \u001b[38;5;66;03m# When the function is just a wrapper around an estimator, we allow\u001b[39;00m\n\u001b[1;32m    216\u001b[0m     \u001b[38;5;66;03m# the function to delegate validation to the estimator, but we replace\u001b[39;00m\n\u001b[1;32m    217\u001b[0m     \u001b[38;5;66;03m# the name of the estimator by the name of the function in the error\u001b[39;00m\n\u001b[1;32m    218\u001b[0m     \u001b[38;5;66;03m# message to avoid confusion.\u001b[39;00m\n\u001b[1;32m    219\u001b[0m     msg \u001b[38;5;241m=\u001b[39m re\u001b[38;5;241m.\u001b[39msub(\n\u001b[1;32m    220\u001b[0m         \u001b[38;5;124mr\u001b[39m\u001b[38;5;124m\"\u001b[39m\u001b[38;5;124mparameter of \u001b[39m\u001b[38;5;124m\\\u001b[39m\u001b[38;5;124mw+ must be\u001b[39m\u001b[38;5;124m\"\u001b[39m,\n\u001b[1;32m    221\u001b[0m         \u001b[38;5;124mf\u001b[39m\u001b[38;5;124m\"\u001b[39m\u001b[38;5;124mparameter of \u001b[39m\u001b[38;5;132;01m{\u001b[39;00mfunc\u001b[38;5;241m.\u001b[39m\u001b[38;5;18m__qualname__\u001b[39m\u001b[38;5;132;01m}\u001b[39;00m\u001b[38;5;124m must be\u001b[39m\u001b[38;5;124m\"\u001b[39m,\n\u001b[1;32m    222\u001b[0m         \u001b[38;5;28mstr\u001b[39m(e),\n\u001b[1;32m    223\u001b[0m     )\n",
      "File \u001b[0;32m/opt/anaconda3/lib/python3.12/site-packages/sklearn/metrics/pairwise.py:1679\u001b[0m, in \u001b[0;36mcosine_similarity\u001b[0;34m(X, Y, dense_output)\u001b[0m\n\u001b[1;32m   1635\u001b[0m \u001b[38;5;250m\u001b[39m\u001b[38;5;124;03m\"\"\"Compute cosine similarity between samples in X and Y.\u001b[39;00m\n\u001b[1;32m   1636\u001b[0m \n\u001b[1;32m   1637\u001b[0m \u001b[38;5;124;03mCosine similarity, or the cosine kernel, computes similarity as the\u001b[39;00m\n\u001b[0;32m   (...)\u001b[0m\n\u001b[1;32m   1675\u001b[0m \u001b[38;5;124;03m       [0.57..., 0.81...]])\u001b[39;00m\n\u001b[1;32m   1676\u001b[0m \u001b[38;5;124;03m\"\"\"\u001b[39;00m\n\u001b[1;32m   1677\u001b[0m \u001b[38;5;66;03m# to avoid recursive import\u001b[39;00m\n\u001b[0;32m-> 1679\u001b[0m X, Y \u001b[38;5;241m=\u001b[39m check_pairwise_arrays(X, Y)\n\u001b[1;32m   1681\u001b[0m X_normalized \u001b[38;5;241m=\u001b[39m normalize(X, copy\u001b[38;5;241m=\u001b[39m\u001b[38;5;28;01mTrue\u001b[39;00m)\n\u001b[1;32m   1682\u001b[0m \u001b[38;5;28;01mif\u001b[39;00m X \u001b[38;5;129;01mis\u001b[39;00m Y:\n",
      "File \u001b[0;32m/opt/anaconda3/lib/python3.12/site-packages/sklearn/metrics/pairwise.py:175\u001b[0m, in \u001b[0;36mcheck_pairwise_arrays\u001b[0;34m(X, Y, precomputed, dtype, accept_sparse, force_all_finite, ensure_2d, copy)\u001b[0m\n\u001b[1;32m    172\u001b[0m     dtype \u001b[38;5;241m=\u001b[39m dtype_float\n\u001b[1;32m    174\u001b[0m \u001b[38;5;28;01mif\u001b[39;00m Y \u001b[38;5;129;01mis\u001b[39;00m X \u001b[38;5;129;01mor\u001b[39;00m Y \u001b[38;5;129;01mis\u001b[39;00m \u001b[38;5;28;01mNone\u001b[39;00m:\n\u001b[0;32m--> 175\u001b[0m     X \u001b[38;5;241m=\u001b[39m Y \u001b[38;5;241m=\u001b[39m check_array(\n\u001b[1;32m    176\u001b[0m         X,\n\u001b[1;32m    177\u001b[0m         accept_sparse\u001b[38;5;241m=\u001b[39maccept_sparse,\n\u001b[1;32m    178\u001b[0m         dtype\u001b[38;5;241m=\u001b[39mdtype,\n\u001b[1;32m    179\u001b[0m         copy\u001b[38;5;241m=\u001b[39mcopy,\n\u001b[1;32m    180\u001b[0m         force_all_finite\u001b[38;5;241m=\u001b[39mforce_all_finite,\n\u001b[1;32m    181\u001b[0m         estimator\u001b[38;5;241m=\u001b[39mestimator,\n\u001b[1;32m    182\u001b[0m         ensure_2d\u001b[38;5;241m=\u001b[39mensure_2d,\n\u001b[1;32m    183\u001b[0m     )\n\u001b[1;32m    184\u001b[0m \u001b[38;5;28;01melse\u001b[39;00m:\n\u001b[1;32m    185\u001b[0m     X \u001b[38;5;241m=\u001b[39m check_array(\n\u001b[1;32m    186\u001b[0m         X,\n\u001b[1;32m    187\u001b[0m         accept_sparse\u001b[38;5;241m=\u001b[39maccept_sparse,\n\u001b[0;32m   (...)\u001b[0m\n\u001b[1;32m    192\u001b[0m         ensure_2d\u001b[38;5;241m=\u001b[39mensure_2d,\n\u001b[1;32m    193\u001b[0m     )\n",
      "File \u001b[0;32m/opt/anaconda3/lib/python3.12/site-packages/sklearn/utils/validation.py:1064\u001b[0m, in \u001b[0;36mcheck_array\u001b[0;34m(array, accept_sparse, accept_large_sparse, dtype, order, copy, force_writeable, force_all_finite, ensure_2d, allow_nd, ensure_min_samples, ensure_min_features, estimator, input_name)\u001b[0m\n\u001b[1;32m   1058\u001b[0m     \u001b[38;5;28;01mraise\u001b[39;00m \u001b[38;5;167;01mValueError\u001b[39;00m(\n\u001b[1;32m   1059\u001b[0m         \u001b[38;5;124m\"\u001b[39m\u001b[38;5;124mFound array with dim \u001b[39m\u001b[38;5;132;01m%d\u001b[39;00m\u001b[38;5;124m. \u001b[39m\u001b[38;5;132;01m%s\u001b[39;00m\u001b[38;5;124m expected <= 2.\u001b[39m\u001b[38;5;124m\"\u001b[39m\n\u001b[1;32m   1060\u001b[0m         \u001b[38;5;241m%\u001b[39m (array\u001b[38;5;241m.\u001b[39mndim, estimator_name)\n\u001b[1;32m   1061\u001b[0m     )\n\u001b[1;32m   1063\u001b[0m \u001b[38;5;28;01mif\u001b[39;00m force_all_finite:\n\u001b[0;32m-> 1064\u001b[0m     _assert_all_finite(\n\u001b[1;32m   1065\u001b[0m         array,\n\u001b[1;32m   1066\u001b[0m         input_name\u001b[38;5;241m=\u001b[39minput_name,\n\u001b[1;32m   1067\u001b[0m         estimator_name\u001b[38;5;241m=\u001b[39mestimator_name,\n\u001b[1;32m   1068\u001b[0m         allow_nan\u001b[38;5;241m=\u001b[39mforce_all_finite \u001b[38;5;241m==\u001b[39m \u001b[38;5;124m\"\u001b[39m\u001b[38;5;124mallow-nan\u001b[39m\u001b[38;5;124m\"\u001b[39m,\n\u001b[1;32m   1069\u001b[0m     )\n\u001b[1;32m   1071\u001b[0m \u001b[38;5;28;01mif\u001b[39;00m copy:\n\u001b[1;32m   1072\u001b[0m     \u001b[38;5;28;01mif\u001b[39;00m _is_numpy_namespace(xp):\n\u001b[1;32m   1073\u001b[0m         \u001b[38;5;66;03m# only make a copy if `array` and `array_orig` may share memory`\u001b[39;00m\n",
      "File \u001b[0;32m/opt/anaconda3/lib/python3.12/site-packages/sklearn/utils/validation.py:123\u001b[0m, in \u001b[0;36m_assert_all_finite\u001b[0;34m(X, allow_nan, msg_dtype, estimator_name, input_name)\u001b[0m\n\u001b[1;32m    120\u001b[0m \u001b[38;5;28;01mif\u001b[39;00m first_pass_isfinite:\n\u001b[1;32m    121\u001b[0m     \u001b[38;5;28;01mreturn\u001b[39;00m\n\u001b[0;32m--> 123\u001b[0m _assert_all_finite_element_wise(\n\u001b[1;32m    124\u001b[0m     X,\n\u001b[1;32m    125\u001b[0m     xp\u001b[38;5;241m=\u001b[39mxp,\n\u001b[1;32m    126\u001b[0m     allow_nan\u001b[38;5;241m=\u001b[39mallow_nan,\n\u001b[1;32m    127\u001b[0m     msg_dtype\u001b[38;5;241m=\u001b[39mmsg_dtype,\n\u001b[1;32m    128\u001b[0m     estimator_name\u001b[38;5;241m=\u001b[39mestimator_name,\n\u001b[1;32m    129\u001b[0m     input_name\u001b[38;5;241m=\u001b[39minput_name,\n\u001b[1;32m    130\u001b[0m )\n",
      "File \u001b[0;32m/opt/anaconda3/lib/python3.12/site-packages/sklearn/utils/validation.py:172\u001b[0m, in \u001b[0;36m_assert_all_finite_element_wise\u001b[0;34m(X, xp, allow_nan, msg_dtype, estimator_name, input_name)\u001b[0m\n\u001b[1;32m    155\u001b[0m \u001b[38;5;28;01mif\u001b[39;00m estimator_name \u001b[38;5;129;01mand\u001b[39;00m input_name \u001b[38;5;241m==\u001b[39m \u001b[38;5;124m\"\u001b[39m\u001b[38;5;124mX\u001b[39m\u001b[38;5;124m\"\u001b[39m \u001b[38;5;129;01mand\u001b[39;00m has_nan_error:\n\u001b[1;32m    156\u001b[0m     \u001b[38;5;66;03m# Improve the error message on how to handle missing values in\u001b[39;00m\n\u001b[1;32m    157\u001b[0m     \u001b[38;5;66;03m# scikit-learn.\u001b[39;00m\n\u001b[1;32m    158\u001b[0m     msg_err \u001b[38;5;241m+\u001b[39m\u001b[38;5;241m=\u001b[39m (\n\u001b[1;32m    159\u001b[0m         \u001b[38;5;124mf\u001b[39m\u001b[38;5;124m\"\u001b[39m\u001b[38;5;130;01m\\n\u001b[39;00m\u001b[38;5;132;01m{\u001b[39;00mestimator_name\u001b[38;5;132;01m}\u001b[39;00m\u001b[38;5;124m does not accept missing values\u001b[39m\u001b[38;5;124m\"\u001b[39m\n\u001b[1;32m    160\u001b[0m         \u001b[38;5;124m\"\u001b[39m\u001b[38;5;124m encoded as NaN natively. For supervised learning, you might want\u001b[39m\u001b[38;5;124m\"\u001b[39m\n\u001b[0;32m   (...)\u001b[0m\n\u001b[1;32m    170\u001b[0m         \u001b[38;5;124m\"\u001b[39m\u001b[38;5;124m#estimators-that-handle-nan-values\u001b[39m\u001b[38;5;124m\"\u001b[39m\n\u001b[1;32m    171\u001b[0m     )\n\u001b[0;32m--> 172\u001b[0m \u001b[38;5;28;01mraise\u001b[39;00m \u001b[38;5;167;01mValueError\u001b[39;00m(msg_err)\n",
      "\u001b[0;31mValueError\u001b[0m: Input contains NaN."
     ]
    }
   ],
   "source": [
    "from sklearn.metrics.pairwise import cosine_similarity\n",
    "\n",
    "similarity_matrix = cosine_similarity(feature_df.values)\n",
    "sim_df = pd.DataFrame(similarity_matrix, index=df['name'], columns=df['name'])\n"
   ]
  },
  {
   "cell_type": "code",
   "execution_count": null,
   "id": "d9e9bd0a-434c-4aa6-8351-61d43147da76",
   "metadata": {},
   "outputs": [],
   "source": [
    "def recommend_artists(artist_name, sim_df, top_n=5):\n",
    "    if artist_name not in sim_df:\n",
    "        print(f\"'{artist_name}' not found.\")\n",
    "        return []\n",
    "    return sim_df[artist_name].drop(artist_name).sort_values(ascending=False).head(top_n)\n"
   ]
  },
  {
   "cell_type": "code",
   "execution_count": null,
   "id": "77b45f73-c87a-4b51-984a-6bd636d7153b",
   "metadata": {},
   "outputs": [],
   "source": [
    "# Try it\n",
    "print(recommend_artists(\"Taylor Swift\", sim_df))"
   ]
  }
 ],
 "metadata": {
  "kernelspec": {
   "display_name": "Python [conda env:base] *",
   "language": "python",
   "name": "conda-base-py"
  },
  "language_info": {
   "codemirror_mode": {
    "name": "ipython",
    "version": 3
   },
   "file_extension": ".py",
   "mimetype": "text/x-python",
   "name": "python",
   "nbconvert_exporter": "python",
   "pygments_lexer": "ipython3",
   "version": "3.12.7"
  }
 },
 "nbformat": 4,
 "nbformat_minor": 5
}
